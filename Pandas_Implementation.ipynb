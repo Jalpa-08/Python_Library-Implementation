{
 "cells": [
  {
   "cell_type": "code",
   "execution_count": 1,
   "id": "73d07401",
   "metadata": {},
   "outputs": [],
   "source": [
    "import pandas as pd"
   ]
  },
  {
   "cell_type": "code",
   "execution_count": 2,
   "id": "a7228404",
   "metadata": {},
   "outputs": [],
   "source": [
    "import pandas as np"
   ]
  },
  {
   "cell_type": "code",
   "execution_count": 9,
   "id": "00bdf4f0",
   "metadata": {},
   "outputs": [],
   "source": [
    "df = pd.DataFrame({\n",
    "    'col1' : [1,2,3,4,5],\n",
    "    'col2':[45,56,67,34,34],\n",
    "    'col3':\"jalpa ineuron one tech im\".split()\n",
    "})"
   ]
  },
  {
   "cell_type": "code",
   "execution_count": 10,
   "id": "669bbd14",
   "metadata": {},
   "outputs": [
    {
     "data": {
      "text/html": [
       "<div>\n",
       "<style scoped>\n",
       "    .dataframe tbody tr th:only-of-type {\n",
       "        vertical-align: middle;\n",
       "    }\n",
       "\n",
       "    .dataframe tbody tr th {\n",
       "        vertical-align: top;\n",
       "    }\n",
       "\n",
       "    .dataframe thead th {\n",
       "        text-align: right;\n",
       "    }\n",
       "</style>\n",
       "<table border=\"1\" class=\"dataframe\">\n",
       "  <thead>\n",
       "    <tr style=\"text-align: right;\">\n",
       "      <th></th>\n",
       "      <th>col1</th>\n",
       "      <th>col2</th>\n",
       "      <th>col3</th>\n",
       "    </tr>\n",
       "  </thead>\n",
       "  <tbody>\n",
       "    <tr>\n",
       "      <th>0</th>\n",
       "      <td>1</td>\n",
       "      <td>45</td>\n",
       "      <td>jalpa</td>\n",
       "    </tr>\n",
       "    <tr>\n",
       "      <th>1</th>\n",
       "      <td>2</td>\n",
       "      <td>56</td>\n",
       "      <td>ineuron</td>\n",
       "    </tr>\n",
       "    <tr>\n",
       "      <th>2</th>\n",
       "      <td>3</td>\n",
       "      <td>67</td>\n",
       "      <td>one</td>\n",
       "    </tr>\n",
       "    <tr>\n",
       "      <th>3</th>\n",
       "      <td>4</td>\n",
       "      <td>34</td>\n",
       "      <td>tech</td>\n",
       "    </tr>\n",
       "    <tr>\n",
       "      <th>4</th>\n",
       "      <td>5</td>\n",
       "      <td>34</td>\n",
       "      <td>im</td>\n",
       "    </tr>\n",
       "  </tbody>\n",
       "</table>\n",
       "</div>"
      ],
      "text/plain": [
       "   col1  col2     col3\n",
       "0     1    45    jalpa\n",
       "1     2    56  ineuron\n",
       "2     3    67      one\n",
       "3     4    34     tech\n",
       "4     5    34       im"
      ]
     },
     "execution_count": 10,
     "metadata": {},
     "output_type": "execute_result"
    }
   ],
   "source": [
    "df"
   ]
  },
  {
   "cell_type": "code",
   "execution_count": 5,
   "id": "1767372b",
   "metadata": {},
   "outputs": [
    {
     "data": {
      "text/plain": [
       "['jalpa', 'ineuron', 'one']"
      ]
     },
     "execution_count": 5,
     "metadata": {},
     "output_type": "execute_result"
    }
   ],
   "source": [
    "\"jalpa ineuron one\".split()"
   ]
  },
  {
   "cell_type": "code",
   "execution_count": 6,
   "id": "0c994d48",
   "metadata": {},
   "outputs": [
    {
     "data": {
      "text/html": [
       "<div>\n",
       "<style scoped>\n",
       "    .dataframe tbody tr th:only-of-type {\n",
       "        vertical-align: middle;\n",
       "    }\n",
       "\n",
       "    .dataframe tbody tr th {\n",
       "        vertical-align: top;\n",
       "    }\n",
       "\n",
       "    .dataframe thead th {\n",
       "        text-align: right;\n",
       "    }\n",
       "</style>\n",
       "<table border=\"1\" class=\"dataframe\">\n",
       "  <thead>\n",
       "    <tr style=\"text-align: right;\">\n",
       "      <th></th>\n",
       "      <th>col1</th>\n",
       "      <th>col2</th>\n",
       "      <th>col3</th>\n",
       "    </tr>\n",
       "  </thead>\n",
       "  <tbody>\n",
       "    <tr>\n",
       "      <th>0</th>\n",
       "      <td>1</td>\n",
       "      <td>45</td>\n",
       "      <td>jalpa ineuron one</td>\n",
       "    </tr>\n",
       "    <tr>\n",
       "      <th>1</th>\n",
       "      <td>2</td>\n",
       "      <td>56</td>\n",
       "      <td>jalpa ineuron one</td>\n",
       "    </tr>\n",
       "    <tr>\n",
       "      <th>2</th>\n",
       "      <td>3</td>\n",
       "      <td>67</td>\n",
       "      <td>jalpa ineuron one</td>\n",
       "    </tr>\n",
       "    <tr>\n",
       "      <th>3</th>\n",
       "      <td>4</td>\n",
       "      <td>34</td>\n",
       "      <td>jalpa ineuron one</td>\n",
       "    </tr>\n",
       "    <tr>\n",
       "      <th>4</th>\n",
       "      <td>5</td>\n",
       "      <td>34</td>\n",
       "      <td>jalpa ineuron one</td>\n",
       "    </tr>\n",
       "  </tbody>\n",
       "</table>\n",
       "</div>"
      ],
      "text/plain": [
       "   col1  col2               col3\n",
       "0     1    45  jalpa ineuron one\n",
       "1     2    56  jalpa ineuron one\n",
       "2     3    67  jalpa ineuron one\n",
       "3     4    34  jalpa ineuron one\n",
       "4     5    34  jalpa ineuron one"
      ]
     },
     "execution_count": 6,
     "metadata": {},
     "output_type": "execute_result"
    }
   ],
   "source": [
    "df"
   ]
  },
  {
   "cell_type": "code",
   "execution_count": 11,
   "id": "4decc788",
   "metadata": {},
   "outputs": [],
   "source": [
    "df['col4'] = df['col1']**2"
   ]
  },
  {
   "cell_type": "code",
   "execution_count": 12,
   "id": "2786cfd6",
   "metadata": {},
   "outputs": [
    {
     "data": {
      "text/plain": [
       "0     1\n",
       "1     4\n",
       "2     9\n",
       "3    16\n",
       "4    25\n",
       "Name: col4, dtype: int64"
      ]
     },
     "execution_count": 12,
     "metadata": {},
     "output_type": "execute_result"
    }
   ],
   "source": [
    "df['col4']"
   ]
  },
  {
   "cell_type": "code",
   "execution_count": 13,
   "id": "af94ccb9",
   "metadata": {},
   "outputs": [
    {
     "data": {
      "text/html": [
       "<div>\n",
       "<style scoped>\n",
       "    .dataframe tbody tr th:only-of-type {\n",
       "        vertical-align: middle;\n",
       "    }\n",
       "\n",
       "    .dataframe tbody tr th {\n",
       "        vertical-align: top;\n",
       "    }\n",
       "\n",
       "    .dataframe thead th {\n",
       "        text-align: right;\n",
       "    }\n",
       "</style>\n",
       "<table border=\"1\" class=\"dataframe\">\n",
       "  <thead>\n",
       "    <tr style=\"text-align: right;\">\n",
       "      <th></th>\n",
       "      <th>col1</th>\n",
       "      <th>col2</th>\n",
       "      <th>col3</th>\n",
       "      <th>col4</th>\n",
       "    </tr>\n",
       "  </thead>\n",
       "  <tbody>\n",
       "    <tr>\n",
       "      <th>0</th>\n",
       "      <td>1</td>\n",
       "      <td>45</td>\n",
       "      <td>jalpa</td>\n",
       "      <td>1</td>\n",
       "    </tr>\n",
       "    <tr>\n",
       "      <th>1</th>\n",
       "      <td>2</td>\n",
       "      <td>56</td>\n",
       "      <td>ineuron</td>\n",
       "      <td>4</td>\n",
       "    </tr>\n",
       "    <tr>\n",
       "      <th>2</th>\n",
       "      <td>3</td>\n",
       "      <td>67</td>\n",
       "      <td>one</td>\n",
       "      <td>9</td>\n",
       "    </tr>\n",
       "    <tr>\n",
       "      <th>3</th>\n",
       "      <td>4</td>\n",
       "      <td>34</td>\n",
       "      <td>tech</td>\n",
       "      <td>16</td>\n",
       "    </tr>\n",
       "    <tr>\n",
       "      <th>4</th>\n",
       "      <td>5</td>\n",
       "      <td>34</td>\n",
       "      <td>im</td>\n",
       "      <td>25</td>\n",
       "    </tr>\n",
       "  </tbody>\n",
       "</table>\n",
       "</div>"
      ],
      "text/plain": [
       "   col1  col2     col3  col4\n",
       "0     1    45    jalpa     1\n",
       "1     2    56  ineuron     4\n",
       "2     3    67      one     9\n",
       "3     4    34     tech    16\n",
       "4     5    34       im    25"
      ]
     },
     "execution_count": 13,
     "metadata": {},
     "output_type": "execute_result"
    }
   ],
   "source": [
    "df"
   ]
  },
  {
   "cell_type": "code",
   "execution_count": 14,
   "id": "6d512480",
   "metadata": {},
   "outputs": [],
   "source": [
    "df['col5'] = df['col3'].str[0]"
   ]
  },
  {
   "cell_type": "code",
   "execution_count": 15,
   "id": "f1d1c72a",
   "metadata": {},
   "outputs": [
    {
     "data": {
      "text/html": [
       "<div>\n",
       "<style scoped>\n",
       "    .dataframe tbody tr th:only-of-type {\n",
       "        vertical-align: middle;\n",
       "    }\n",
       "\n",
       "    .dataframe tbody tr th {\n",
       "        vertical-align: top;\n",
       "    }\n",
       "\n",
       "    .dataframe thead th {\n",
       "        text-align: right;\n",
       "    }\n",
       "</style>\n",
       "<table border=\"1\" class=\"dataframe\">\n",
       "  <thead>\n",
       "    <tr style=\"text-align: right;\">\n",
       "      <th></th>\n",
       "      <th>col1</th>\n",
       "      <th>col2</th>\n",
       "      <th>col3</th>\n",
       "      <th>col4</th>\n",
       "      <th>col5</th>\n",
       "    </tr>\n",
       "  </thead>\n",
       "  <tbody>\n",
       "    <tr>\n",
       "      <th>0</th>\n",
       "      <td>1</td>\n",
       "      <td>45</td>\n",
       "      <td>jalpa</td>\n",
       "      <td>1</td>\n",
       "      <td>j</td>\n",
       "    </tr>\n",
       "    <tr>\n",
       "      <th>1</th>\n",
       "      <td>2</td>\n",
       "      <td>56</td>\n",
       "      <td>ineuron</td>\n",
       "      <td>4</td>\n",
       "      <td>i</td>\n",
       "    </tr>\n",
       "    <tr>\n",
       "      <th>2</th>\n",
       "      <td>3</td>\n",
       "      <td>67</td>\n",
       "      <td>one</td>\n",
       "      <td>9</td>\n",
       "      <td>o</td>\n",
       "    </tr>\n",
       "    <tr>\n",
       "      <th>3</th>\n",
       "      <td>4</td>\n",
       "      <td>34</td>\n",
       "      <td>tech</td>\n",
       "      <td>16</td>\n",
       "      <td>t</td>\n",
       "    </tr>\n",
       "    <tr>\n",
       "      <th>4</th>\n",
       "      <td>5</td>\n",
       "      <td>34</td>\n",
       "      <td>im</td>\n",
       "      <td>25</td>\n",
       "      <td>i</td>\n",
       "    </tr>\n",
       "  </tbody>\n",
       "</table>\n",
       "</div>"
      ],
      "text/plain": [
       "   col1  col2     col3  col4 col5\n",
       "0     1    45    jalpa     1    j\n",
       "1     2    56  ineuron     4    i\n",
       "2     3    67      one     9    o\n",
       "3     4    34     tech    16    t\n",
       "4     5    34       im    25    i"
      ]
     },
     "execution_count": 15,
     "metadata": {},
     "output_type": "execute_result"
    }
   ],
   "source": [
    "df"
   ]
  },
  {
   "cell_type": "code",
   "execution_count": 17,
   "id": "c708d7d5",
   "metadata": {},
   "outputs": [],
   "source": [
    "def test(a):\n",
    "    return a**2"
   ]
  },
  {
   "cell_type": "code",
   "execution_count": 18,
   "id": "2128e358",
   "metadata": {},
   "outputs": [
    {
     "data": {
      "text/plain": [
       "4"
      ]
     },
     "execution_count": 18,
     "metadata": {},
     "output_type": "execute_result"
    }
   ],
   "source": [
    "test(2)"
   ]
  },
  {
   "cell_type": "code",
   "execution_count": 19,
   "id": "36685ea1",
   "metadata": {},
   "outputs": [],
   "source": [
    "df['col4_4'] = df['col1'].apply(test)"
   ]
  },
  {
   "cell_type": "code",
   "execution_count": 20,
   "id": "87a0fdbe",
   "metadata": {},
   "outputs": [
    {
     "data": {
      "text/html": [
       "<div>\n",
       "<style scoped>\n",
       "    .dataframe tbody tr th:only-of-type {\n",
       "        vertical-align: middle;\n",
       "    }\n",
       "\n",
       "    .dataframe tbody tr th {\n",
       "        vertical-align: top;\n",
       "    }\n",
       "\n",
       "    .dataframe thead th {\n",
       "        text-align: right;\n",
       "    }\n",
       "</style>\n",
       "<table border=\"1\" class=\"dataframe\">\n",
       "  <thead>\n",
       "    <tr style=\"text-align: right;\">\n",
       "      <th></th>\n",
       "      <th>col1</th>\n",
       "      <th>col2</th>\n",
       "      <th>col3</th>\n",
       "      <th>col4</th>\n",
       "      <th>col5</th>\n",
       "      <th>col4_4</th>\n",
       "    </tr>\n",
       "  </thead>\n",
       "  <tbody>\n",
       "    <tr>\n",
       "      <th>0</th>\n",
       "      <td>1</td>\n",
       "      <td>45</td>\n",
       "      <td>jalpa</td>\n",
       "      <td>1</td>\n",
       "      <td>j</td>\n",
       "      <td>1</td>\n",
       "    </tr>\n",
       "    <tr>\n",
       "      <th>1</th>\n",
       "      <td>2</td>\n",
       "      <td>56</td>\n",
       "      <td>ineuron</td>\n",
       "      <td>4</td>\n",
       "      <td>i</td>\n",
       "      <td>4</td>\n",
       "    </tr>\n",
       "    <tr>\n",
       "      <th>2</th>\n",
       "      <td>3</td>\n",
       "      <td>67</td>\n",
       "      <td>one</td>\n",
       "      <td>9</td>\n",
       "      <td>o</td>\n",
       "      <td>9</td>\n",
       "    </tr>\n",
       "    <tr>\n",
       "      <th>3</th>\n",
       "      <td>4</td>\n",
       "      <td>34</td>\n",
       "      <td>tech</td>\n",
       "      <td>16</td>\n",
       "      <td>t</td>\n",
       "      <td>16</td>\n",
       "    </tr>\n",
       "    <tr>\n",
       "      <th>4</th>\n",
       "      <td>5</td>\n",
       "      <td>34</td>\n",
       "      <td>im</td>\n",
       "      <td>25</td>\n",
       "      <td>i</td>\n",
       "      <td>25</td>\n",
       "    </tr>\n",
       "  </tbody>\n",
       "</table>\n",
       "</div>"
      ],
      "text/plain": [
       "   col1  col2     col3  col4 col5  col4_4\n",
       "0     1    45    jalpa     1    j       1\n",
       "1     2    56  ineuron     4    i       4\n",
       "2     3    67      one     9    o       9\n",
       "3     4    34     tech    16    t      16\n",
       "4     5    34       im    25    i      25"
      ]
     },
     "execution_count": 20,
     "metadata": {},
     "output_type": "execute_result"
    }
   ],
   "source": [
    "df"
   ]
  },
  {
   "cell_type": "code",
   "execution_count": 26,
   "id": "ffd01142",
   "metadata": {},
   "outputs": [],
   "source": [
    "def test1(a):\n",
    "    if a == 'j':\n",
    "        return 'j'\n",
    "    else:\n",
    "        return 'z'"
   ]
  },
  {
   "cell_type": "code",
   "execution_count": 27,
   "id": "b2597f58",
   "metadata": {},
   "outputs": [],
   "source": [
    "df['col6'] = df['col5'].apply(test1)"
   ]
  },
  {
   "cell_type": "code",
   "execution_count": 28,
   "id": "b9a66d07",
   "metadata": {},
   "outputs": [
    {
     "data": {
      "text/html": [
       "<div>\n",
       "<style scoped>\n",
       "    .dataframe tbody tr th:only-of-type {\n",
       "        vertical-align: middle;\n",
       "    }\n",
       "\n",
       "    .dataframe tbody tr th {\n",
       "        vertical-align: top;\n",
       "    }\n",
       "\n",
       "    .dataframe thead th {\n",
       "        text-align: right;\n",
       "    }\n",
       "</style>\n",
       "<table border=\"1\" class=\"dataframe\">\n",
       "  <thead>\n",
       "    <tr style=\"text-align: right;\">\n",
       "      <th></th>\n",
       "      <th>col1</th>\n",
       "      <th>col2</th>\n",
       "      <th>col3</th>\n",
       "      <th>col4</th>\n",
       "      <th>col5</th>\n",
       "      <th>col4_4</th>\n",
       "      <th>col6</th>\n",
       "    </tr>\n",
       "  </thead>\n",
       "  <tbody>\n",
       "    <tr>\n",
       "      <th>0</th>\n",
       "      <td>1</td>\n",
       "      <td>45</td>\n",
       "      <td>jalpa</td>\n",
       "      <td>1</td>\n",
       "      <td>j</td>\n",
       "      <td>1</td>\n",
       "      <td>j</td>\n",
       "    </tr>\n",
       "    <tr>\n",
       "      <th>1</th>\n",
       "      <td>2</td>\n",
       "      <td>56</td>\n",
       "      <td>ineuron</td>\n",
       "      <td>4</td>\n",
       "      <td>i</td>\n",
       "      <td>4</td>\n",
       "      <td>z</td>\n",
       "    </tr>\n",
       "    <tr>\n",
       "      <th>2</th>\n",
       "      <td>3</td>\n",
       "      <td>67</td>\n",
       "      <td>one</td>\n",
       "      <td>9</td>\n",
       "      <td>o</td>\n",
       "      <td>9</td>\n",
       "      <td>z</td>\n",
       "    </tr>\n",
       "    <tr>\n",
       "      <th>3</th>\n",
       "      <td>4</td>\n",
       "      <td>34</td>\n",
       "      <td>tech</td>\n",
       "      <td>16</td>\n",
       "      <td>t</td>\n",
       "      <td>16</td>\n",
       "      <td>z</td>\n",
       "    </tr>\n",
       "    <tr>\n",
       "      <th>4</th>\n",
       "      <td>5</td>\n",
       "      <td>34</td>\n",
       "      <td>im</td>\n",
       "      <td>25</td>\n",
       "      <td>i</td>\n",
       "      <td>25</td>\n",
       "      <td>z</td>\n",
       "    </tr>\n",
       "  </tbody>\n",
       "</table>\n",
       "</div>"
      ],
      "text/plain": [
       "   col1  col2     col3  col4 col5  col4_4 col6\n",
       "0     1    45    jalpa     1    j       1    j\n",
       "1     2    56  ineuron     4    i       4    z\n",
       "2     3    67      one     9    o       9    z\n",
       "3     4    34     tech    16    t      16    z\n",
       "4     5    34       im    25    i      25    z"
      ]
     },
     "execution_count": 28,
     "metadata": {},
     "output_type": "execute_result"
    }
   ],
   "source": [
    "df"
   ]
  },
  {
   "cell_type": "code",
   "execution_count": 29,
   "id": "c2c91b99",
   "metadata": {},
   "outputs": [],
   "source": [
    "df['col6_6'] = df['col5'].apply(lambda a : 's' if a== 's' else 'z')"
   ]
  },
  {
   "cell_type": "code",
   "execution_count": 30,
   "id": "4040496a",
   "metadata": {},
   "outputs": [
    {
     "data": {
      "text/html": [
       "<div>\n",
       "<style scoped>\n",
       "    .dataframe tbody tr th:only-of-type {\n",
       "        vertical-align: middle;\n",
       "    }\n",
       "\n",
       "    .dataframe tbody tr th {\n",
       "        vertical-align: top;\n",
       "    }\n",
       "\n",
       "    .dataframe thead th {\n",
       "        text-align: right;\n",
       "    }\n",
       "</style>\n",
       "<table border=\"1\" class=\"dataframe\">\n",
       "  <thead>\n",
       "    <tr style=\"text-align: right;\">\n",
       "      <th></th>\n",
       "      <th>col1</th>\n",
       "      <th>col2</th>\n",
       "      <th>col3</th>\n",
       "      <th>col4</th>\n",
       "      <th>col5</th>\n",
       "      <th>col4_4</th>\n",
       "      <th>col6</th>\n",
       "      <th>col6_6</th>\n",
       "    </tr>\n",
       "  </thead>\n",
       "  <tbody>\n",
       "    <tr>\n",
       "      <th>0</th>\n",
       "      <td>1</td>\n",
       "      <td>45</td>\n",
       "      <td>jalpa</td>\n",
       "      <td>1</td>\n",
       "      <td>j</td>\n",
       "      <td>1</td>\n",
       "      <td>j</td>\n",
       "      <td>z</td>\n",
       "    </tr>\n",
       "    <tr>\n",
       "      <th>1</th>\n",
       "      <td>2</td>\n",
       "      <td>56</td>\n",
       "      <td>ineuron</td>\n",
       "      <td>4</td>\n",
       "      <td>i</td>\n",
       "      <td>4</td>\n",
       "      <td>z</td>\n",
       "      <td>z</td>\n",
       "    </tr>\n",
       "    <tr>\n",
       "      <th>2</th>\n",
       "      <td>3</td>\n",
       "      <td>67</td>\n",
       "      <td>one</td>\n",
       "      <td>9</td>\n",
       "      <td>o</td>\n",
       "      <td>9</td>\n",
       "      <td>z</td>\n",
       "      <td>z</td>\n",
       "    </tr>\n",
       "    <tr>\n",
       "      <th>3</th>\n",
       "      <td>4</td>\n",
       "      <td>34</td>\n",
       "      <td>tech</td>\n",
       "      <td>16</td>\n",
       "      <td>t</td>\n",
       "      <td>16</td>\n",
       "      <td>z</td>\n",
       "      <td>z</td>\n",
       "    </tr>\n",
       "    <tr>\n",
       "      <th>4</th>\n",
       "      <td>5</td>\n",
       "      <td>34</td>\n",
       "      <td>im</td>\n",
       "      <td>25</td>\n",
       "      <td>i</td>\n",
       "      <td>25</td>\n",
       "      <td>z</td>\n",
       "      <td>z</td>\n",
       "    </tr>\n",
       "  </tbody>\n",
       "</table>\n",
       "</div>"
      ],
      "text/plain": [
       "   col1  col2     col3  col4 col5  col4_4 col6 col6_6\n",
       "0     1    45    jalpa     1    j       1    j      z\n",
       "1     2    56  ineuron     4    i       4    z      z\n",
       "2     3    67      one     9    o       9    z      z\n",
       "3     4    34     tech    16    t      16    z      z\n",
       "4     5    34       im    25    i      25    z      z"
      ]
     },
     "execution_count": 30,
     "metadata": {},
     "output_type": "execute_result"
    }
   ],
   "source": [
    "df"
   ]
  },
  {
   "cell_type": "code",
   "execution_count": 32,
   "id": "32435cb4",
   "metadata": {},
   "outputs": [],
   "source": [
    "df['col_7'] = df['col3'].apply(len)"
   ]
  },
  {
   "cell_type": "code",
   "execution_count": 33,
   "id": "5d07df73",
   "metadata": {},
   "outputs": [
    {
     "data": {
      "text/html": [
       "<div>\n",
       "<style scoped>\n",
       "    .dataframe tbody tr th:only-of-type {\n",
       "        vertical-align: middle;\n",
       "    }\n",
       "\n",
       "    .dataframe tbody tr th {\n",
       "        vertical-align: top;\n",
       "    }\n",
       "\n",
       "    .dataframe thead th {\n",
       "        text-align: right;\n",
       "    }\n",
       "</style>\n",
       "<table border=\"1\" class=\"dataframe\">\n",
       "  <thead>\n",
       "    <tr style=\"text-align: right;\">\n",
       "      <th></th>\n",
       "      <th>col1</th>\n",
       "      <th>col2</th>\n",
       "      <th>col3</th>\n",
       "      <th>col4</th>\n",
       "      <th>col5</th>\n",
       "      <th>col4_4</th>\n",
       "      <th>col6</th>\n",
       "      <th>col6_6</th>\n",
       "      <th>col_7</th>\n",
       "    </tr>\n",
       "  </thead>\n",
       "  <tbody>\n",
       "    <tr>\n",
       "      <th>0</th>\n",
       "      <td>1</td>\n",
       "      <td>45</td>\n",
       "      <td>jalpa</td>\n",
       "      <td>1</td>\n",
       "      <td>j</td>\n",
       "      <td>1</td>\n",
       "      <td>j</td>\n",
       "      <td>z</td>\n",
       "      <td>5</td>\n",
       "    </tr>\n",
       "    <tr>\n",
       "      <th>1</th>\n",
       "      <td>2</td>\n",
       "      <td>56</td>\n",
       "      <td>ineuron</td>\n",
       "      <td>4</td>\n",
       "      <td>i</td>\n",
       "      <td>4</td>\n",
       "      <td>z</td>\n",
       "      <td>z</td>\n",
       "      <td>7</td>\n",
       "    </tr>\n",
       "    <tr>\n",
       "      <th>2</th>\n",
       "      <td>3</td>\n",
       "      <td>67</td>\n",
       "      <td>one</td>\n",
       "      <td>9</td>\n",
       "      <td>o</td>\n",
       "      <td>9</td>\n",
       "      <td>z</td>\n",
       "      <td>z</td>\n",
       "      <td>3</td>\n",
       "    </tr>\n",
       "    <tr>\n",
       "      <th>3</th>\n",
       "      <td>4</td>\n",
       "      <td>34</td>\n",
       "      <td>tech</td>\n",
       "      <td>16</td>\n",
       "      <td>t</td>\n",
       "      <td>16</td>\n",
       "      <td>z</td>\n",
       "      <td>z</td>\n",
       "      <td>4</td>\n",
       "    </tr>\n",
       "    <tr>\n",
       "      <th>4</th>\n",
       "      <td>5</td>\n",
       "      <td>34</td>\n",
       "      <td>im</td>\n",
       "      <td>25</td>\n",
       "      <td>i</td>\n",
       "      <td>25</td>\n",
       "      <td>z</td>\n",
       "      <td>z</td>\n",
       "      <td>2</td>\n",
       "    </tr>\n",
       "  </tbody>\n",
       "</table>\n",
       "</div>"
      ],
      "text/plain": [
       "   col1  col2     col3  col4 col5  col4_4 col6 col6_6  col_7\n",
       "0     1    45    jalpa     1    j       1    j      z      5\n",
       "1     2    56  ineuron     4    i       4    z      z      7\n",
       "2     3    67      one     9    o       9    z      z      3\n",
       "3     4    34     tech    16    t      16    z      z      4\n",
       "4     5    34       im    25    i      25    z      z      2"
      ]
     },
     "execution_count": 33,
     "metadata": {},
     "output_type": "execute_result"
    }
   ],
   "source": [
    "df"
   ]
  },
  {
   "cell_type": "code",
   "execution_count": 36,
   "id": "52cd8ad4",
   "metadata": {},
   "outputs": [],
   "source": [
    "import math"
   ]
  },
  {
   "cell_type": "code",
   "execution_count": 39,
   "id": "005b3b7b",
   "metadata": {},
   "outputs": [],
   "source": [
    "df['col_8'] = df['col2'].apply(math.log)"
   ]
  },
  {
   "cell_type": "code",
   "execution_count": 40,
   "id": "31e9c00d",
   "metadata": {},
   "outputs": [
    {
     "data": {
      "text/html": [
       "<div>\n",
       "<style scoped>\n",
       "    .dataframe tbody tr th:only-of-type {\n",
       "        vertical-align: middle;\n",
       "    }\n",
       "\n",
       "    .dataframe tbody tr th {\n",
       "        vertical-align: top;\n",
       "    }\n",
       "\n",
       "    .dataframe thead th {\n",
       "        text-align: right;\n",
       "    }\n",
       "</style>\n",
       "<table border=\"1\" class=\"dataframe\">\n",
       "  <thead>\n",
       "    <tr style=\"text-align: right;\">\n",
       "      <th></th>\n",
       "      <th>col1</th>\n",
       "      <th>col2</th>\n",
       "      <th>col3</th>\n",
       "      <th>col4</th>\n",
       "      <th>col5</th>\n",
       "      <th>col4_4</th>\n",
       "      <th>col6</th>\n",
       "      <th>col6_6</th>\n",
       "      <th>col_7</th>\n",
       "      <th>col_8</th>\n",
       "    </tr>\n",
       "  </thead>\n",
       "  <tbody>\n",
       "    <tr>\n",
       "      <th>0</th>\n",
       "      <td>1</td>\n",
       "      <td>45</td>\n",
       "      <td>jalpa</td>\n",
       "      <td>1</td>\n",
       "      <td>j</td>\n",
       "      <td>1</td>\n",
       "      <td>j</td>\n",
       "      <td>z</td>\n",
       "      <td>5</td>\n",
       "      <td>3.806662</td>\n",
       "    </tr>\n",
       "    <tr>\n",
       "      <th>1</th>\n",
       "      <td>2</td>\n",
       "      <td>56</td>\n",
       "      <td>ineuron</td>\n",
       "      <td>4</td>\n",
       "      <td>i</td>\n",
       "      <td>4</td>\n",
       "      <td>z</td>\n",
       "      <td>z</td>\n",
       "      <td>7</td>\n",
       "      <td>4.025352</td>\n",
       "    </tr>\n",
       "    <tr>\n",
       "      <th>2</th>\n",
       "      <td>3</td>\n",
       "      <td>67</td>\n",
       "      <td>one</td>\n",
       "      <td>9</td>\n",
       "      <td>o</td>\n",
       "      <td>9</td>\n",
       "      <td>z</td>\n",
       "      <td>z</td>\n",
       "      <td>3</td>\n",
       "      <td>4.204693</td>\n",
       "    </tr>\n",
       "    <tr>\n",
       "      <th>3</th>\n",
       "      <td>4</td>\n",
       "      <td>34</td>\n",
       "      <td>tech</td>\n",
       "      <td>16</td>\n",
       "      <td>t</td>\n",
       "      <td>16</td>\n",
       "      <td>z</td>\n",
       "      <td>z</td>\n",
       "      <td>4</td>\n",
       "      <td>3.526361</td>\n",
       "    </tr>\n",
       "    <tr>\n",
       "      <th>4</th>\n",
       "      <td>5</td>\n",
       "      <td>34</td>\n",
       "      <td>im</td>\n",
       "      <td>25</td>\n",
       "      <td>i</td>\n",
       "      <td>25</td>\n",
       "      <td>z</td>\n",
       "      <td>z</td>\n",
       "      <td>2</td>\n",
       "      <td>3.526361</td>\n",
       "    </tr>\n",
       "  </tbody>\n",
       "</table>\n",
       "</div>"
      ],
      "text/plain": [
       "   col1  col2     col3  col4 col5  col4_4 col6 col6_6  col_7     col_8\n",
       "0     1    45    jalpa     1    j       1    j      z      5  3.806662\n",
       "1     2    56  ineuron     4    i       4    z      z      7  4.025352\n",
       "2     3    67      one     9    o       9    z      z      3  4.204693\n",
       "3     4    34     tech    16    t      16    z      z      4  3.526361\n",
       "4     5    34       im    25    i      25    z      z      2  3.526361"
      ]
     },
     "execution_count": 40,
     "metadata": {},
     "output_type": "execute_result"
    }
   ],
   "source": [
    "df"
   ]
  },
  {
   "cell_type": "code",
   "execution_count": 41,
   "id": "b3c58565",
   "metadata": {},
   "outputs": [],
   "source": [
    "import numpy as np"
   ]
  },
  {
   "cell_type": "code",
   "execution_count": 42,
   "id": "baa9c7e7",
   "metadata": {},
   "outputs": [],
   "source": [
    "l = [1,2,3,4]"
   ]
  },
  {
   "cell_type": "code",
   "execution_count": 43,
   "id": "fb26c5f2",
   "metadata": {},
   "outputs": [
    {
     "data": {
      "text/plain": [
       "list"
      ]
     },
     "execution_count": 43,
     "metadata": {},
     "output_type": "execute_result"
    }
   ],
   "source": [
    "type(l)"
   ]
  },
  {
   "cell_type": "code",
   "execution_count": 44,
   "id": "e6dc436e",
   "metadata": {},
   "outputs": [
    {
     "data": {
      "text/plain": [
       "array([1, 2, 3, 4])"
      ]
     },
     "execution_count": 44,
     "metadata": {},
     "output_type": "execute_result"
    }
   ],
   "source": [
    "np.array(l)"
   ]
  },
  {
   "cell_type": "code",
   "execution_count": 45,
   "id": "6b960fcc",
   "metadata": {},
   "outputs": [
    {
     "data": {
      "text/plain": [
       "numpy.ndarray"
      ]
     },
     "execution_count": 45,
     "metadata": {},
     "output_type": "execute_result"
    }
   ],
   "source": [
    "type(np.array(l))"
   ]
  },
  {
   "cell_type": "code",
   "execution_count": 52,
   "id": "5dae942f",
   "metadata": {},
   "outputs": [],
   "source": [
    "a1 = np.array([3,4,5,6,3.0])"
   ]
  },
  {
   "cell_type": "code",
   "execution_count": 49,
   "id": "f15d1bae",
   "metadata": {},
   "outputs": [],
   "source": [
    "a = np.array([[1,2],[3,4]])"
   ]
  },
  {
   "cell_type": "code",
   "execution_count": 50,
   "id": "237663ac",
   "metadata": {},
   "outputs": [
    {
     "data": {
      "text/plain": [
       "array([[1, 2],\n",
       "       [3, 4]])"
      ]
     },
     "execution_count": 50,
     "metadata": {},
     "output_type": "execute_result"
    }
   ],
   "source": [
    "a"
   ]
  },
  {
   "cell_type": "code",
   "execution_count": 51,
   "id": "ef37d161",
   "metadata": {},
   "outputs": [
    {
     "data": {
      "text/plain": [
       "4"
      ]
     },
     "execution_count": 51,
     "metadata": {},
     "output_type": "execute_result"
    }
   ],
   "source": [
    "a[(1,1)]"
   ]
  },
  {
   "cell_type": "code",
   "execution_count": 53,
   "id": "f310251b",
   "metadata": {},
   "outputs": [
    {
     "data": {
      "text/plain": [
       "array([3., 4., 5., 6., 3.])"
      ]
     },
     "execution_count": 53,
     "metadata": {},
     "output_type": "execute_result"
    }
   ],
   "source": [
    "a1"
   ]
  },
  {
   "cell_type": "code",
   "execution_count": 54,
   "id": "f0adbce5",
   "metadata": {},
   "outputs": [
    {
     "data": {
      "text/plain": [
       "5.0"
      ]
     },
     "execution_count": 54,
     "metadata": {},
     "output_type": "execute_result"
    }
   ],
   "source": [
    "a1[2]"
   ]
  },
  {
   "cell_type": "code",
   "execution_count": 58,
   "id": "9a168129",
   "metadata": {},
   "outputs": [
    {
     "data": {
      "text/plain": [
       "array([[[1, 2, 3, 4]]])"
      ]
     },
     "execution_count": 58,
     "metadata": {},
     "output_type": "execute_result"
    }
   ],
   "source": [
    "np.array([1,2,3,4],ndmin = 3)"
   ]
  },
  {
   "cell_type": "code",
   "execution_count": 62,
   "id": "198a4190",
   "metadata": {},
   "outputs": [
    {
     "data": {
      "text/plain": [
       "array([ 1, 23,  4,  5])"
      ]
     },
     "execution_count": 62,
     "metadata": {},
     "output_type": "execute_result"
    }
   ],
   "source": [
    "np.asarray([1,23,4,5])"
   ]
  },
  {
   "cell_type": "code",
   "execution_count": 60,
   "id": "b670f24f",
   "metadata": {},
   "outputs": [
    {
     "data": {
      "text/plain": [
       "array([1, 2, 3, 4, 5])"
      ]
     },
     "execution_count": 60,
     "metadata": {},
     "output_type": "execute_result"
    }
   ],
   "source": [
    "np.asanyarray([1,2,3,4,5])"
   ]
  },
  {
   "cell_type": "code",
   "execution_count": 61,
   "id": "7f13d3fb",
   "metadata": {},
   "outputs": [
    {
     "data": {
      "text/plain": [
       "matrix([[1, 2, 3, 3]])"
      ]
     },
     "execution_count": 61,
     "metadata": {},
     "output_type": "execute_result"
    }
   ],
   "source": [
    "np.mat([1,2,3,3])"
   ]
  },
  {
   "cell_type": "code",
   "execution_count": 64,
   "id": "82cd3b93",
   "metadata": {},
   "outputs": [
    {
     "data": {
      "text/plain": [
       "array([1, 2, 3, 4, 5])"
      ]
     },
     "execution_count": 64,
     "metadata": {},
     "output_type": "execute_result"
    }
   ],
   "source": [
    "a = [1,2,3,4,5]\n",
    "np.asarray(a)"
   ]
  },
  {
   "cell_type": "code",
   "execution_count": 65,
   "id": "19aaf8de",
   "metadata": {},
   "outputs": [
    {
     "data": {
      "text/plain": [
       "matrix([[1, 2, 3, 4, 5]])"
      ]
     },
     "execution_count": 65,
     "metadata": {},
     "output_type": "execute_result"
    }
   ],
   "source": [
    "np.mat(a)"
   ]
  },
  {
   "cell_type": "code",
   "execution_count": 66,
   "id": "42ccc8d5",
   "metadata": {},
   "outputs": [
    {
     "data": {
      "text/plain": [
       "array([1, 2, 3, 4, 5])"
      ]
     },
     "execution_count": 66,
     "metadata": {},
     "output_type": "execute_result"
    }
   ],
   "source": [
    "np.asanyarray(a)"
   ]
  },
  {
   "cell_type": "code",
   "execution_count": 67,
   "id": "702f7a12",
   "metadata": {},
   "outputs": [
    {
     "data": {
      "text/plain": [
       "matrix([[1, 2, 3, 4, 5]])"
      ]
     },
     "execution_count": 67,
     "metadata": {},
     "output_type": "execute_result"
    }
   ],
   "source": [
    "np.asanyarray(np.mat(a))"
   ]
  },
  {
   "cell_type": "code",
   "execution_count": 68,
   "id": "795ff019",
   "metadata": {},
   "outputs": [
    {
     "data": {
      "text/plain": [
       "array([[ True, False, False],\n",
       "       [False,  True, False],\n",
       "       [False, False,  True]])"
      ]
     },
     "execution_count": 68,
     "metadata": {},
     "output_type": "execute_result"
    }
   ],
   "source": [
    "np.fromfunction(lambda i , j : i == j, (3,3))"
   ]
  },
  {
   "cell_type": "code",
   "execution_count": 70,
   "id": "6a24481a",
   "metadata": {},
   "outputs": [
    {
     "data": {
      "text/plain": [
       "array([[ 1,  0,  0,  0],\n",
       "       [ 1,  1,  1,  1],\n",
       "       [ 1,  2,  4,  8],\n",
       "       [ 1,  3,  9, 27]], dtype=int32)"
      ]
     },
     "execution_count": 70,
     "metadata": {},
     "output_type": "execute_result"
    }
   ],
   "source": [
    "np.fromfunction(lambda i , j: i**j, (4,4), dtype = int)"
   ]
  },
  {
   "cell_type": "code",
   "execution_count": 71,
   "id": "f046ba90",
   "metadata": {},
   "outputs": [
    {
     "data": {
      "text/plain": [
       "matrix([[ 1,  0,  0,  0],\n",
       "        [ 1,  1,  1,  1],\n",
       "        [ 1,  2,  4,  8],\n",
       "        [ 1,  3,  9, 27]], dtype=int32)"
      ]
     },
     "execution_count": 71,
     "metadata": {},
     "output_type": "execute_result"
    }
   ],
   "source": [
    "np.mat(np.fromfunction(lambda i , j: i**j, (4,4), dtype = int))"
   ]
  },
  {
   "cell_type": "code",
   "execution_count": 73,
   "id": "be964787",
   "metadata": {},
   "outputs": [
    {
     "data": {
      "text/plain": [
       "array([[[0, 0],\n",
       "        [0, 0],\n",
       "        [0, 0]],\n",
       "\n",
       "       [[0, 0],\n",
       "        [0, 1],\n",
       "        [0, 2]],\n",
       "\n",
       "       [[0, 0],\n",
       "        [0, 2],\n",
       "        [0, 4]],\n",
       "\n",
       "       [[0, 0],\n",
       "        [0, 3],\n",
       "        [0, 6]]])"
      ]
     },
     "execution_count": 73,
     "metadata": {},
     "output_type": "execute_result"
    }
   ],
   "source": [
    "np.fromfunction(lambda i , j, z: i*j*z, (4,3,2),dtype = int) # three matrixes as a dimension of (3,2)"
   ]
  },
  {
   "cell_type": "code",
   "execution_count": 80,
   "id": "88338efd",
   "metadata": {},
   "outputs": [],
   "source": [
    "a=np.fromfunction(lambda i , j, z, d: i*j*z*d, (4,3,2,2),dtype = int)"
   ]
  },
  {
   "cell_type": "code",
   "execution_count": 76,
   "id": "223955d6",
   "metadata": {},
   "outputs": [
    {
     "data": {
      "text/plain": [
       "array([[0.31692802, 0.44275149, 0.89508001, 0.38416744],\n",
       "       [0.55294397, 0.88520878, 0.06331632, 0.05271949],\n",
       "       [0.98956506, 0.896287  , 0.61089053, 0.11751208],\n",
       "       [0.01796661, 0.54730744, 0.094642  , 0.87237948],\n",
       "       [0.74568104, 0.98376969, 0.76237486, 0.02658077],\n",
       "       [0.36990212, 0.27604947, 0.85893684, 0.3563189 ],\n",
       "       [0.98155713, 0.44642018, 0.51231296, 0.11092856],\n",
       "       [0.16920116, 0.27475453, 0.7231593 , 0.17656265],\n",
       "       [0.5186459 , 0.15116717, 0.78424731, 0.51409039],\n",
       "       [0.64840519, 0.11903303, 0.85536335, 0.14085022],\n",
       "       [0.99459442, 0.99516817, 0.57096057, 0.36062031],\n",
       "       [0.6631389 , 0.72180497, 0.99675029, 0.47363135],\n",
       "       [0.94246902, 0.17921384, 0.26557852, 0.08395097],\n",
       "       [0.80787366, 0.96524945, 0.35535329, 0.89871266],\n",
       "       [0.7925545 , 0.07249059, 0.07341803, 0.32478289],\n",
       "       [0.41776591, 0.85274632, 0.38294811, 0.52049267],\n",
       "       [0.25560288, 0.96049333, 0.87945813, 0.54957082],\n",
       "       [0.21150443, 0.89543083, 0.38443112, 0.50413432],\n",
       "       [0.26780772, 0.84958005, 0.48559886, 0.35698226],\n",
       "       [0.0827256 , 0.651076  , 0.87944347, 0.48365807],\n",
       "       [0.13343875, 0.27134253, 0.33243856, 0.36164083],\n",
       "       [0.29079753, 0.3708753 , 0.06388942, 0.94976072],\n",
       "       [0.444358  , 0.08179222, 0.58772275, 0.98768267],\n",
       "       [0.6969592 , 0.98692076, 0.95204921, 0.28387604],\n",
       "       [0.51232636, 0.92892911, 0.52064223, 0.37886822],\n",
       "       [0.77985017, 0.89866214, 0.51198543, 0.04324104],\n",
       "       [0.4641758 , 0.00261531, 0.32557417, 0.69932004],\n",
       "       [0.07946297, 0.60640953, 0.11812518, 0.90462362],\n",
       "       [0.69644942, 0.18370892, 0.70118138, 0.91325152],\n",
       "       [0.98698006, 0.76809819, 0.80753609, 0.8182322 ],\n",
       "       [0.07755808, 0.0738157 , 0.22487837, 0.21435276],\n",
       "       [0.49523108, 0.00839487, 0.97053174, 0.84219884],\n",
       "       [0.26982121, 0.4092708 , 0.12442319, 0.66326237],\n",
       "       [0.91340772, 0.81772329, 0.77115063, 0.89211396],\n",
       "       [0.58826785, 0.1685771 , 0.03905537, 0.10236356],\n",
       "       [0.08735459, 0.42582314, 0.74858359, 0.5942843 ],\n",
       "       [0.6060142 , 0.10777583, 0.95854099, 0.54343547],\n",
       "       [0.75922836, 0.73528928, 0.66665409, 0.74722263],\n",
       "       [0.54086604, 0.98568866, 0.25982123, 0.3555787 ],\n",
       "       [0.15697875, 0.33130037, 0.8676754 , 0.51145425],\n",
       "       [0.16659459, 0.25921586, 0.93312517, 0.13119957],\n",
       "       [0.07455008, 0.25659735, 0.88761205, 0.53865885],\n",
       "       [0.40736909, 0.0345941 , 0.51017236, 0.89118632],\n",
       "       [0.78056568, 0.85641618, 0.97302647, 0.75368704],\n",
       "       [0.45469019, 0.67219758, 0.49741767, 0.55354704],\n",
       "       [0.49925203, 0.18105747, 0.20814601, 0.57340896],\n",
       "       [0.07856387, 0.46440039, 0.17068106, 0.17334697],\n",
       "       [0.99206847, 0.90948027, 0.49472357, 0.43680549],\n",
       "       [0.55735891, 0.8570933 , 0.47776764, 0.63163641],\n",
       "       [0.53067562, 0.06155597, 0.07329698, 0.19586264],\n",
       "       [0.3218842 , 0.55583964, 0.59145117, 0.58438347],\n",
       "       [0.73606101, 0.44864285, 0.40235165, 0.40272199],\n",
       "       [0.69341247, 0.52157569, 0.79538819, 0.01767963],\n",
       "       [0.03826387, 0.50632295, 0.6793591 , 0.11967548],\n",
       "       [0.61999423, 0.95851885, 0.71708156, 0.17695218],\n",
       "       [0.99853918, 0.27395569, 0.21784771, 0.80472468],\n",
       "       [0.99382342, 0.38379148, 0.57909334, 0.87888476],\n",
       "       [0.79704249, 0.3866078 , 0.93432385, 0.17063186],\n",
       "       [0.3075649 , 0.15880392, 0.37924981, 0.41669128],\n",
       "       [0.50789048, 0.57940703, 0.21849095, 0.19452737],\n",
       "       [0.88674686, 0.15757724, 0.38845401, 0.68494855],\n",
       "       [0.18328978, 0.47121379, 0.29444458, 0.92981204],\n",
       "       [0.166421  , 0.10402659, 0.40863296, 0.13715453],\n",
       "       [0.00409613, 0.0851515 , 0.66256308, 0.90971523],\n",
       "       [0.53584425, 0.26852595, 0.114591  , 0.11345627],\n",
       "       [0.38800529, 0.83267581, 0.05395177, 0.0065665 ],\n",
       "       [0.01376532, 0.06075243, 0.32405204, 0.15004725],\n",
       "       [0.37781158, 0.12718719, 0.72956674, 0.85792186],\n",
       "       [0.89584739, 0.97797107, 0.94664186, 0.05830102],\n",
       "       [0.74877092, 0.23171567, 0.54530602, 0.69304679],\n",
       "       [0.59549804, 0.40699216, 0.30041512, 0.60004507],\n",
       "       [0.29840008, 0.41949822, 0.796847  , 0.85023168],\n",
       "       [0.59861616, 0.09623635, 0.54379311, 0.67490287],\n",
       "       [0.98555917, 0.68224311, 0.12007877, 0.10637168],\n",
       "       [0.25412054, 0.15952162, 0.05342749, 0.81768549],\n",
       "       [0.08804036, 0.02542067, 0.87048187, 0.23201287],\n",
       "       [0.24836047, 0.74883655, 0.58665179, 0.58413715],\n",
       "       [0.98732669, 0.07410413, 0.71174455, 0.66629027],\n",
       "       [0.71735406, 0.30768821, 0.40319996, 0.48318329],\n",
       "       [0.75144904, 0.85343896, 0.80662423, 0.52646018],\n",
       "       [0.17455961, 0.47331456, 0.3761596 , 0.57303968],\n",
       "       [0.77827082, 0.77538549, 0.16009588, 0.5352518 ],\n",
       "       [0.50786043, 0.27802311, 0.03201212, 0.68351717],\n",
       "       [0.22969597, 0.54910178, 0.55753598, 0.63084806],\n",
       "       [0.50900329, 0.89397941, 0.20276418, 0.03730804],\n",
       "       [0.87131776, 0.43190555, 0.73056894, 0.41374012],\n",
       "       [0.65053222, 0.24138079, 0.02979893, 0.58164906],\n",
       "       [0.61649519, 0.51070996, 0.40963901, 0.49514171],\n",
       "       [0.09897748, 0.82378241, 0.57638608, 0.82436469],\n",
       "       [0.58385295, 0.27328396, 0.27595776, 0.01561894],\n",
       "       [0.20625393, 0.79526503, 0.16495354, 0.03029804],\n",
       "       [0.46728198, 0.36931145, 0.58856939, 0.47387966],\n",
       "       [0.97942344, 0.29583863, 0.02110943, 0.02903166],\n",
       "       [0.4144908 , 0.61995939, 0.58701417, 0.2320833 ],\n",
       "       [0.05283139, 0.08471821, 0.57111674, 0.1831947 ],\n",
       "       [0.19536873, 0.73069687, 0.27680546, 0.27605146],\n",
       "       [0.99524758, 0.11614265, 0.09841673, 0.70195827],\n",
       "       [0.52619099, 0.8506744 , 0.91428574, 0.35952767],\n",
       "       [0.03656214, 0.89495884, 0.84637834, 0.00418704],\n",
       "       [0.42573497, 0.27277786, 0.86377714, 0.17004631]])"
      ]
     },
     "execution_count": 76,
     "metadata": {},
     "output_type": "execute_result"
    }
   ],
   "source": [
    "np.random.rand(100,4)"
   ]
  },
  {
   "cell_type": "code",
   "execution_count": 77,
   "id": "af7b44ff",
   "metadata": {},
   "outputs": [
    {
     "data": {
      "text/plain": [
       "8"
      ]
     },
     "execution_count": 77,
     "metadata": {},
     "output_type": "execute_result"
    }
   ],
   "source": [
    "np.random.randint(4,50)"
   ]
  },
  {
   "cell_type": "code",
   "execution_count": 78,
   "id": "f617d04e",
   "metadata": {},
   "outputs": [
    {
     "data": {
      "text/plain": [
       "array([[ 0.12626057, -0.63491158,  0.61191371,  1.32186571, -0.22906826],\n",
       "       [ 0.12786145,  2.23243581,  0.9278023 , -0.91305049,  1.54552947],\n",
       "       [-0.70500354,  0.77977123,  0.55557874,  1.90156373, -1.00153933],\n",
       "       [ 0.60877857,  0.08030062, -0.58240312, -0.62479677,  0.52346557]])"
      ]
     },
     "execution_count": 78,
     "metadata": {},
     "output_type": "execute_result"
    }
   ],
   "source": [
    "np.random.randn(4,5)"
   ]
  },
  {
   "cell_type": "code",
   "execution_count": 79,
   "id": "2c92dce3",
   "metadata": {},
   "outputs": [
    {
     "data": {
      "text/html": [
       "<div>\n",
       "<style scoped>\n",
       "    .dataframe tbody tr th:only-of-type {\n",
       "        vertical-align: middle;\n",
       "    }\n",
       "\n",
       "    .dataframe tbody tr th {\n",
       "        vertical-align: top;\n",
       "    }\n",
       "\n",
       "    .dataframe thead th {\n",
       "        text-align: right;\n",
       "    }\n",
       "</style>\n",
       "<table border=\"1\" class=\"dataframe\">\n",
       "  <thead>\n",
       "    <tr style=\"text-align: right;\">\n",
       "      <th></th>\n",
       "      <th>0</th>\n",
       "      <th>1</th>\n",
       "      <th>2</th>\n",
       "      <th>3</th>\n",
       "      <th>4</th>\n",
       "    </tr>\n",
       "  </thead>\n",
       "  <tbody>\n",
       "    <tr>\n",
       "      <th>0</th>\n",
       "      <td>-0.351473</td>\n",
       "      <td>1.523768</td>\n",
       "      <td>0.432357</td>\n",
       "      <td>-0.638787</td>\n",
       "      <td>1.374261</td>\n",
       "    </tr>\n",
       "    <tr>\n",
       "      <th>1</th>\n",
       "      <td>-0.962125</td>\n",
       "      <td>0.392872</td>\n",
       "      <td>0.183973</td>\n",
       "      <td>1.586318</td>\n",
       "      <td>-0.035486</td>\n",
       "    </tr>\n",
       "    <tr>\n",
       "      <th>2</th>\n",
       "      <td>0.587642</td>\n",
       "      <td>-2.085147</td>\n",
       "      <td>-0.819532</td>\n",
       "      <td>-0.755066</td>\n",
       "      <td>1.029830</td>\n",
       "    </tr>\n",
       "    <tr>\n",
       "      <th>3</th>\n",
       "      <td>-1.058371</td>\n",
       "      <td>0.339291</td>\n",
       "      <td>1.318349</td>\n",
       "      <td>1.159974</td>\n",
       "      <td>1.180579</td>\n",
       "    </tr>\n",
       "  </tbody>\n",
       "</table>\n",
       "</div>"
      ],
      "text/plain": [
       "          0         1         2         3         4\n",
       "0 -0.351473  1.523768  0.432357 -0.638787  1.374261\n",
       "1 -0.962125  0.392872  0.183973  1.586318 -0.035486\n",
       "2  0.587642 -2.085147 -0.819532 -0.755066  1.029830\n",
       "3 -1.058371  0.339291  1.318349  1.159974  1.180579"
      ]
     },
     "execution_count": 79,
     "metadata": {},
     "output_type": "execute_result"
    }
   ],
   "source": [
    "pd.DataFrame(np.random.randn(4,5))"
   ]
  },
  {
   "cell_type": "code",
   "execution_count": 81,
   "id": "b18a720b",
   "metadata": {},
   "outputs": [
    {
     "data": {
      "text/plain": [
       "array([[[[0, 0],\n",
       "         [0, 0]],\n",
       "\n",
       "        [[0, 0],\n",
       "         [0, 0]],\n",
       "\n",
       "        [[0, 0],\n",
       "         [0, 0]]],\n",
       "\n",
       "\n",
       "       [[[0, 0],\n",
       "         [0, 0]],\n",
       "\n",
       "        [[0, 0],\n",
       "         [0, 1]],\n",
       "\n",
       "        [[0, 0],\n",
       "         [0, 2]]],\n",
       "\n",
       "\n",
       "       [[[0, 0],\n",
       "         [0, 0]],\n",
       "\n",
       "        [[0, 0],\n",
       "         [0, 2]],\n",
       "\n",
       "        [[0, 0],\n",
       "         [0, 4]]],\n",
       "\n",
       "\n",
       "       [[[0, 0],\n",
       "         [0, 0]],\n",
       "\n",
       "        [[0, 0],\n",
       "         [0, 3]],\n",
       "\n",
       "        [[0, 0],\n",
       "         [0, 6]]]])"
      ]
     },
     "execution_count": 81,
     "metadata": {},
     "output_type": "execute_result"
    }
   ],
   "source": [
    "a"
   ]
  },
  {
   "cell_type": "code",
   "execution_count": 84,
   "id": "ec506c98",
   "metadata": {},
   "outputs": [
    {
     "data": {
      "text/plain": [
       "array([[[0],\n",
       "        [0],\n",
       "        [0],\n",
       "        [0]],\n",
       "\n",
       "       [[0],\n",
       "        [0],\n",
       "        [0],\n",
       "        [0]],\n",
       "\n",
       "       [[0],\n",
       "        [0],\n",
       "        [0],\n",
       "        [0]],\n",
       "\n",
       "       [[0],\n",
       "        [0],\n",
       "        [0],\n",
       "        [0]],\n",
       "\n",
       "       [[0],\n",
       "        [0],\n",
       "        [0],\n",
       "        [1]],\n",
       "\n",
       "       [[0],\n",
       "        [0],\n",
       "        [0],\n",
       "        [2]],\n",
       "\n",
       "       [[0],\n",
       "        [0],\n",
       "        [0],\n",
       "        [0]],\n",
       "\n",
       "       [[0],\n",
       "        [0],\n",
       "        [0],\n",
       "        [2]],\n",
       "\n",
       "       [[0],\n",
       "        [0],\n",
       "        [0],\n",
       "        [4]],\n",
       "\n",
       "       [[0],\n",
       "        [0],\n",
       "        [0],\n",
       "        [0]],\n",
       "\n",
       "       [[0],\n",
       "        [0],\n",
       "        [0],\n",
       "        [3]],\n",
       "\n",
       "       [[0],\n",
       "        [0],\n",
       "        [0],\n",
       "        [6]]])"
      ]
     },
     "execution_count": 84,
     "metadata": {},
     "output_type": "execute_result"
    }
   ],
   "source": [
    "a.reshape(12,4,-234)"
   ]
  },
  {
   "cell_type": "code",
   "execution_count": null,
   "id": "5e717f95",
   "metadata": {},
   "outputs": [],
   "source": []
  }
 ],
 "metadata": {
  "kernelspec": {
   "display_name": "Python 3 (ipykernel)",
   "language": "python",
   "name": "python3"
  },
  "language_info": {
   "codemirror_mode": {
    "name": "ipython",
    "version": 3
   },
   "file_extension": ".py",
   "mimetype": "text/x-python",
   "name": "python",
   "nbconvert_exporter": "python",
   "pygments_lexer": "ipython3",
   "version": "3.9.7"
  }
 },
 "nbformat": 4,
 "nbformat_minor": 5
}
